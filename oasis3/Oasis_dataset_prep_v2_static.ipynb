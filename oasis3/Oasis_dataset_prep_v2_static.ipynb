{
 "cells": [
  {
   "cell_type": "code",
   "execution_count": null,
   "id": "ef314826",
   "metadata": {},
   "outputs": [],
   "source": [
    "import pickle\n",
    "import pandas as pd"
   ]
  },
  {
   "cell_type": "code",
   "execution_count": null,
   "id": "3723ae42",
   "metadata": {},
   "outputs": [],
   "source": [
    "# matching data table generated with instruction above\n",
    "match = \"./test_matching/test_matching_365_b_365_a.csv\"\n",
    "match_df = pd.read_csv(match)"
   ]
  },
  {
   "cell_type": "markdown",
   "id": "ba6246ef",
   "metadata": {},
   "source": [
    "# Directory: /vol/biomedic3/bglocker/brain/oasis3/rigid_to_mni/seg/fsl/meshes"
   ]
  },
  {
   "cell_type": "markdown",
   "id": "d63bea72",
   "metadata": {},
   "source": [
    "# Data List"
   ]
  },
  {
   "cell_type": "code",
   "execution_count": null,
   "id": "805ccb7d",
   "metadata": {},
   "outputs": [],
   "source": [
    "# Reduce down to select columns\n",
    "cols = [\"ADRC_ADRCCLINICALDATA ID\", \"MR ID_MR\", \"Subject\", \"cdr\"]\n",
    "red_match_df = match_df[cols].copy()"
   ]
  },
  {
   "cell_type": "code",
   "execution_count": null,
   "id": "a6208a76",
   "metadata": {},
   "outputs": [],
   "source": [
    "# Sort by MR_ID (so ID and day)\n",
    "MR_sorted_df = red_match_df.sort_values('MR ID_MR').copy()\n",
    "MR_sorted_df"
   ]
  },
  {
   "cell_type": "code",
   "execution_count": null,
   "id": "5b54a955",
   "metadata": {},
   "outputs": [],
   "source": [
    "# Get earliest MR per subject\n",
    "latest_MRs = MR_sorted_df.groupby('Subject').last().copy().reset_index()\n",
    "latest_MRs"
   ]
  },
  {
   "cell_type": "markdown",
   "id": "0239b243",
   "metadata": {},
   "source": [
    "# Seperate out different groups"
   ]
  },
  {
   "cell_type": "code",
   "execution_count": null,
   "id": "46571c7c",
   "metadata": {},
   "outputs": [],
   "source": [
    "zeros = latest_MRs[latest_MRs[\"cdr\"] == 0].copy()\n",
    "halves = latest_MRs[latest_MRs[\"cdr\"] == 0.5].copy()\n",
    "ones = latest_MRs[latest_MRs[\"cdr\"] == 1].copy()\n",
    "twos = latest_MRs[latest_MRs[\"cdr\"] == 2].copy()\n",
    "threes = latest_MRs[latest_MRs[\"cdr\"] == 3].copy()"
   ]
  },
  {
   "cell_type": "code",
   "execution_count": null,
   "id": "416c9ef1",
   "metadata": {},
   "outputs": [],
   "source": [
    "for list_ in [zeros, halves, ones, twos, threes]:\n",
    "    print(len(list_))"
   ]
  },
  {
   "cell_type": "markdown",
   "id": "7c22fe84",
   "metadata": {},
   "source": [
    "# Now allowing multiple scans per patient"
   ]
  },
  {
   "cell_type": "code",
   "execution_count": null,
   "id": "b9b2d3fa",
   "metadata": {},
   "outputs": [],
   "source": [
    "multi_zeros = MR_sorted_df[MR_sorted_df[\"cdr\"] == 0].copy()\n",
    "multi_halves = MR_sorted_df[MR_sorted_df[\"cdr\"] == 0.5].copy()\n",
    "multi_ones = MR_sorted_df[MR_sorted_df[\"cdr\"] == 1].copy()\n",
    "multi_twos = MR_sorted_df[MR_sorted_df[\"cdr\"] == 2].copy()\n",
    "multi_threes = MR_sorted_df[MR_sorted_df[\"cdr\"] == 3].copy()"
   ]
  },
  {
   "cell_type": "code",
   "execution_count": null,
   "id": "7fdef11c",
   "metadata": {},
   "outputs": [],
   "source": [
    "for list_ in [multi_zeros, multi_halves, multi_ones, multi_twos, multi_threes]:\n",
    "    print(len(list_))"
   ]
  },
  {
   "cell_type": "markdown",
   "id": "380498c8",
   "metadata": {},
   "source": [
    "# Multiple scans per patient but only a single entry per scan"
   ]
  },
  {
   "cell_type": "code",
   "execution_count": null,
   "id": "c8124ff1",
   "metadata": {},
   "outputs": [],
   "source": [
    "reduced_multi = MR_sorted_df.groupby('MR ID_MR').last().copy().reset_index()\n",
    "reduced_multi"
   ]
  },
  {
   "cell_type": "code",
   "execution_count": null,
   "id": "27994b0b",
   "metadata": {},
   "outputs": [],
   "source": [
    "multi_zeros_2 = reduced_multi[reduced_multi[\"cdr\"] == 0].copy()\n",
    "multi_halves_2 = reduced_multi[reduced_multi[\"cdr\"] == 0.5].copy()\n",
    "multi_ones_2 = reduced_multi[reduced_multi[\"cdr\"] == 1].copy()\n",
    "multi_twos_2 = reduced_multi[reduced_multi[\"cdr\"] == 2].copy()\n",
    "multi_threes_2 = reduced_multi[reduced_multi[\"cdr\"] == 3].copy()"
   ]
  },
  {
   "cell_type": "code",
   "execution_count": null,
   "id": "ea5523b6",
   "metadata": {},
   "outputs": [],
   "source": [
    "for list_ in [multi_zeros_2, multi_halves_2, multi_ones_2, multi_twos_2, multi_threes_2]:\n",
    "    print(len(list_))"
   ]
  },
  {
   "cell_type": "code",
   "execution_count": null,
   "id": "cf8f7ebf",
   "metadata": {},
   "outputs": [],
   "source": [
    "stage = 'test'"
   ]
  },
  {
   "cell_type": "code",
   "execution_count": null,
   "id": "82cf1416",
   "metadata": {},
   "outputs": [],
   "source": [
    "if stage in ['fit', None]:\n",
    "    print(1)"
   ]
  },
  {
   "cell_type": "code",
   "execution_count": null,
   "id": "25791393",
   "metadata": {},
   "outputs": [],
   "source": []
  },
  {
   "cell_type": "code",
   "execution_count": null,
   "id": "40d25341",
   "metadata": {},
   "outputs": [],
   "source": [
    "singles = [zeros, halves, ones, twos, threes]"
   ]
  },
  {
   "cell_type": "code",
   "execution_count": null,
   "id": "7b75601e",
   "metadata": {},
   "outputs": [],
   "source": [
    "multis = [multi_zeros, multi_halves, multi_ones, multi_twos, multi_threes]"
   ]
  },
  {
   "cell_type": "code",
   "execution_count": null,
   "id": "9dbae379",
   "metadata": {},
   "outputs": [],
   "source": [
    "file = \"./cached_files/statics/multi_per_sub_single_per_scan_file\""
   ]
  },
  {
   "cell_type": "code",
   "execution_count": null,
   "id": "d31b0a0b",
   "metadata": {},
   "outputs": [],
   "source": [
    "import pickle\n",
    "with open(, 'wb') as subjects_file:\n",
    "            pickle.dump(reduced_multi, subjects_file)"
   ]
  },
  {
   "cell_type": "code",
   "execution_count": null,
   "id": "e72147f0",
   "metadata": {},
   "outputs": [],
   "source": [
    "with open(file, 'rb') as flat_list_file:\n",
    "                reduced_multi = pickle.load(flat_list_file)"
   ]
  },
  {
   "cell_type": "code",
   "execution_count": null,
   "id": "d0f6fc0e",
   "metadata": {},
   "outputs": [],
   "source": [
    "multi_zeros_2 = reduced_multi[reduced_multi[\"cdr\"] == 0].copy()\n",
    "multi_halves_2 = reduced_multi[reduced_multi[\"cdr\"] == 0.5].copy()\n",
    "multi_ones_2 = reduced_multi[reduced_multi[\"cdr\"] == 1].copy()\n",
    "multi_twos_2 = reduced_multi[reduced_multi[\"cdr\"] == 2].copy()\n",
    "multi_threes_2 = reduced_multi[reduced_multi[\"cdr\"] == 3].copy()"
   ]
  },
  {
   "cell_type": "code",
   "execution_count": null,
   "id": "7a1a493f",
   "metadata": {},
   "outputs": [],
   "source": [
    "total = 0\n",
    "for list_ in [multi_zeros_2, multi_halves_2, multi_ones_2, multi_twos_2, multi_threes_2]:\n",
    "    x = len(list_)\n",
    "    print(x)\n",
    "    total+=x\n",
    "print()\n",
    "print(total)"
   ]
  },
  {
   "cell_type": "code",
   "execution_count": null,
   "id": "19e86fc4",
   "metadata": {},
   "outputs": [],
   "source": []
  }
 ],
 "metadata": {
  "kernelspec": {
   "display_name": "Python 3",
   "language": "python",
   "name": "python3"
  },
  "language_info": {
   "codemirror_mode": {
    "name": "ipython",
    "version": 3
   },
   "file_extension": ".py",
   "mimetype": "text/x-python",
   "name": "python",
   "nbconvert_exporter": "python",
   "pygments_lexer": "ipython3",
   "version": "3.8.10"
  }
 },
 "nbformat": 4,
 "nbformat_minor": 5
}
