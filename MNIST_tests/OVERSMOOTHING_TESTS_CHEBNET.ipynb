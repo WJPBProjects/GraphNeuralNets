{
 "cells": [
  {
   "cell_type": "code",
   "execution_count": 1,
   "id": "d9097995",
   "metadata": {},
   "outputs": [],
   "source": [
    "from importlib import reload"
   ]
  },
  {
   "cell_type": "code",
   "execution_count": 2,
   "id": "9b180746",
   "metadata": {},
   "outputs": [],
   "source": [
    "import MNIST_DataModule_file\n",
    "import ChebNet_file\n",
    "\n",
    "import pytorch_lightning as pl\n",
    "from pytorch_lightning.callbacks import ModelCheckpoint\n",
    "from pytorch_lightning.callbacks.early_stopping import EarlyStopping\n",
    "import torch"
   ]
  },
  {
   "cell_type": "code",
   "execution_count": 3,
   "id": "64c45072",
   "metadata": {},
   "outputs": [],
   "source": [
    "from MNIST_DataModule_file import MNISTDataModule\n",
    "from ChebNet_file import ChebNet"
   ]
  },
  {
   "cell_type": "markdown",
   "id": "2c5df166",
   "metadata": {},
   "source": [
    "# to do\n",
    "what model settings to use, set filename"
   ]
  },
  {
   "cell_type": "code",
   "execution_count": 4,
   "id": "b1321ffd",
   "metadata": {},
   "outputs": [],
   "source": [
    "results_filename = \"Oversmoothing_experiment_chebnet_no_smooth.txt\""
   ]
  },
  {
   "cell_type": "code",
   "execution_count": 5,
   "id": "201bfeab",
   "metadata": {},
   "outputs": [],
   "source": [
    "rand_seeds = [3, 4, 8, 9, 27]\n",
    "num_epochs = 80"
   ]
  },
  {
   "cell_type": "code",
   "execution_count": null,
   "id": "943d73c8",
   "metadata": {},
   "outputs": [
    {
     "name": "stderr",
     "output_type": "stream",
     "text": [
      "Global seed set to 3\n",
      "GPU available: True, used: True\n",
      "TPU available: False, using: 0 TPU cores\n",
      "LOCAL_RANK: 0 - CUDA_VISIBLE_DEVICES: [0]\n",
      "\n",
      "  | Name      | Type             | Params\n",
      "-----------------------------------------------\n",
      "0 | conv1     | ChebConv         | 384   \n",
      "1 | conv2     | ChebConv         | 20.5 K\n",
      "2 | conv3     | ChebConv         | 20.5 K\n",
      "3 | lin       | Linear           | 650   \n",
      "4 | criterion | CrossEntropyLoss | 0     \n",
      "-----------------------------------------------\n",
      "42.1 K    Trainable params\n",
      "0         Non-trainable params\n",
      "42.1 K    Total params\n",
      "0.168     Total estimated model params size (MB)\n"
     ]
    },
    {
     "data": {
      "application/vnd.jupyter.widget-view+json": {
       "model_id": "",
       "version_major": 2,
       "version_minor": 0
      },
      "text/plain": [
       "Validation sanity check: 0it [00:00, ?it/s]"
      ]
     },
     "metadata": {},
     "output_type": "display_data"
    },
    {
     "name": "stderr",
     "output_type": "stream",
     "text": [
      "Global seed set to 3\n"
     ]
    },
    {
     "data": {
      "application/vnd.jupyter.widget-view+json": {
       "model_id": "e5a00c6e1b2640f4ad721933ceaecf68",
       "version_major": 2,
       "version_minor": 0
      },
      "text/plain": [
       "Training: 0it [00:00, ?it/s]"
      ]
     },
     "metadata": {},
     "output_type": "display_data"
    },
    {
     "data": {
      "application/vnd.jupyter.widget-view+json": {
       "model_id": "",
       "version_major": 2,
       "version_minor": 0
      },
      "text/plain": [
       "Validating: 0it [00:00, ?it/s]"
      ]
     },
     "metadata": {},
     "output_type": "display_data"
    },
    {
     "data": {
      "application/vnd.jupyter.widget-view+json": {
       "model_id": "",
       "version_major": 2,
       "version_minor": 0
      },
      "text/plain": [
       "Validating: 0it [00:00, ?it/s]"
      ]
     },
     "metadata": {},
     "output_type": "display_data"
    },
    {
     "data": {
      "application/vnd.jupyter.widget-view+json": {
       "model_id": "",
       "version_major": 2,
       "version_minor": 0
      },
      "text/plain": [
       "Validating: 0it [00:00, ?it/s]"
      ]
     },
     "metadata": {},
     "output_type": "display_data"
    },
    {
     "data": {
      "application/vnd.jupyter.widget-view+json": {
       "model_id": "",
       "version_major": 2,
       "version_minor": 0
      },
      "text/plain": [
       "Validating: 0it [00:00, ?it/s]"
      ]
     },
     "metadata": {},
     "output_type": "display_data"
    },
    {
     "data": {
      "application/vnd.jupyter.widget-view+json": {
       "model_id": "",
       "version_major": 2,
       "version_minor": 0
      },
      "text/plain": [
       "Validating: 0it [00:00, ?it/s]"
      ]
     },
     "metadata": {},
     "output_type": "display_data"
    },
    {
     "data": {
      "application/vnd.jupyter.widget-view+json": {
       "model_id": "",
       "version_major": 2,
       "version_minor": 0
      },
      "text/plain": [
       "Validating: 0it [00:00, ?it/s]"
      ]
     },
     "metadata": {},
     "output_type": "display_data"
    },
    {
     "data": {
      "application/vnd.jupyter.widget-view+json": {
       "model_id": "",
       "version_major": 2,
       "version_minor": 0
      },
      "text/plain": [
       "Validating: 0it [00:00, ?it/s]"
      ]
     },
     "metadata": {},
     "output_type": "display_data"
    }
   ],
   "source": [
    "for seed in rand_seeds:\n",
    "    #re-seed everything\n",
    "    pl.seed_everything(seed, workers=True)\n",
    "    \n",
    "    #setup data\n",
    "    mnist_data = MNISTDataModule(data_dir = './MNIST_data/',\n",
    "                                 batch_size = 40\n",
    "                                )\n",
    "    \n",
    "    #setup model\n",
    "    kernel_size = 5\n",
    "\n",
    "    model = ChebNet(hidden_channels = 64, \n",
    "                num_node_features = 1, \n",
    "                num_classes = 10,\n",
    "                k_size = 5,\n",
    "                CBS_initial_neighb_distance = 0, \n",
    "                CBS_epochs = 0,\n",
    "                starting_own_weight = 1,\n",
    "                weight_epochs = 0, \n",
    "                weight_incr = 0\n",
    "               )\n",
    "\n",
    "    \n",
    "    checkpoint_callback = ModelCheckpoint(\n",
    "        monitor='val_loss',\n",
    "        save_top_k=1,\n",
    "        mode='min',\n",
    "    )\n",
    "    \n",
    "    \n",
    "    #setup trainer\n",
    "    callbacks_list = [checkpoint_callback]\n",
    "    \n",
    "    trainer = pl.Trainer(gpus=1, \n",
    "                     deterministic=True, \n",
    "                     min_epochs = num_epochs,\n",
    "                     max_epochs = num_epochs, \n",
    "                     callbacks=callbacks_list\n",
    "                    )\n",
    "    \n",
    "    #fit\n",
    "    trainer.fit(model, mnist_data)\n",
    "    \n",
    "    #test & save\n",
    "    test_vals = trainer.test(model = model)\n",
    "    \n",
    "    with open(results_filename, \"a\") as file_object:\n",
    "        file_object.write(f'Seed: {seed}\\n {test_vals}\\n \\n')"
   ]
  },
  {
   "cell_type": "code",
   "execution_count": null,
   "id": "234489fe",
   "metadata": {},
   "outputs": [],
   "source": []
  }
 ],
 "metadata": {
  "kernelspec": {
   "display_name": "Python 3",
   "language": "python",
   "name": "python3"
  },
  "language_info": {
   "codemirror_mode": {
    "name": "ipython",
    "version": 3
   },
   "file_extension": ".py",
   "mimetype": "text/x-python",
   "name": "python",
   "nbconvert_exporter": "python",
   "pygments_lexer": "ipython3",
   "version": "3.8.10"
  }
 },
 "nbformat": 4,
 "nbformat_minor": 5
}
